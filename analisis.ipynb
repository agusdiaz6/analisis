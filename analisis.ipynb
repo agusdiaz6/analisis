{
 "cells": [
  {
   "cell_type": "code",
   "execution_count": 6,
   "metadata": {},
   "outputs": [
    {
     "data": {
      "text/plain": [
       "'Hola'"
      ]
     },
     "execution_count": 6,
     "metadata": {},
     "output_type": "execute_result"
    }
   ],
   "source": [
    "a = \"Hola\"\n",
    "a"
   ]
  },
  {
   "cell_type": "code",
   "execution_count": 9,
   "metadata": {},
   "outputs": [
    {
     "data": {
      "text/html": [
       "<div>\n",
       "<style scoped>\n",
       "    .dataframe tbody tr th:only-of-type {\n",
       "        vertical-align: middle;\n",
       "    }\n",
       "\n",
       "    .dataframe tbody tr th {\n",
       "        vertical-align: top;\n",
       "    }\n",
       "\n",
       "    .dataframe thead th {\n",
       "        text-align: right;\n",
       "    }\n",
       "</style>\n",
       "<table border=\"1\" class=\"dataframe\">\n",
       "  <thead>\n",
       "    <tr style=\"text-align: right;\">\n",
       "      <th></th>\n",
       "      <th>IMC</th>\n",
       "    </tr>\n",
       "  </thead>\n",
       "  <tbody>\n",
       "    <tr>\n",
       "      <th>0</th>\n",
       "      <td>29</td>\n",
       "    </tr>\n",
       "    <tr>\n",
       "      <th>1</th>\n",
       "      <td>26</td>\n",
       "    </tr>\n",
       "    <tr>\n",
       "      <th>2</th>\n",
       "      <td>35</td>\n",
       "    </tr>\n",
       "  </tbody>\n",
       "</table>\n",
       "</div>"
      ],
      "text/plain": [
       "  IMC\n",
       "0  29\n",
       "1  26\n",
       "2  35"
      ]
     },
     "execution_count": 9,
     "metadata": {},
     "output_type": "execute_result"
    }
   ],
   "source": [
    "import pandas as pd\n",
    "\n",
    "IMC = [\"29\", \"26\", \"35\"]\n",
    "df = pd.DataFrame(IMC, columns=[\"IMC\"])\n",
    "df"
   ]
  },
  {
   "cell_type": "code",
   "execution_count": 19,
   "metadata": {},
   "outputs": [
    {
     "data": {
      "text/html": [
       "<div>\n",
       "<style scoped>\n",
       "    .dataframe tbody tr th:only-of-type {\n",
       "        vertical-align: middle;\n",
       "    }\n",
       "\n",
       "    .dataframe tbody tr th {\n",
       "        vertical-align: top;\n",
       "    }\n",
       "\n",
       "    .dataframe thead th {\n",
       "        text-align: right;\n",
       "    }\n",
       "</style>\n",
       "<table border=\"1\" class=\"dataframe\">\n",
       "  <thead>\n",
       "    <tr style=\"text-align: right;\">\n",
       "      <th></th>\n",
       "      <th>Open</th>\n",
       "      <th>Close</th>\n",
       "      <th>High</th>\n",
       "      <th>Low</th>\n",
       "      <th>Volume</th>\n",
       "    </tr>\n",
       "    <tr>\n",
       "      <th>Timestamp</th>\n",
       "      <th></th>\n",
       "      <th></th>\n",
       "      <th></th>\n",
       "      <th></th>\n",
       "      <th></th>\n",
       "    </tr>\n",
       "  </thead>\n",
       "  <tbody>\n",
       "    <tr>\n",
       "      <th>2024-07-19 10:30:00</th>\n",
       "      <td>3742.0</td>\n",
       "      <td>3742.0</td>\n",
       "      <td>3742.0</td>\n",
       "      <td>3742.0</td>\n",
       "      <td>1.0</td>\n",
       "    </tr>\n",
       "    <tr>\n",
       "      <th>2024-07-19 10:31:00</th>\n",
       "      <td>3755.0</td>\n",
       "      <td>3755.0</td>\n",
       "      <td>3755.0</td>\n",
       "      <td>3755.0</td>\n",
       "      <td>1.0</td>\n",
       "    </tr>\n",
       "    <tr>\n",
       "      <th>2024-07-19 10:32:00</th>\n",
       "      <td>3710.0</td>\n",
       "      <td>3710.0</td>\n",
       "      <td>3710.0</td>\n",
       "      <td>3710.0</td>\n",
       "      <td>10.0</td>\n",
       "    </tr>\n",
       "    <tr>\n",
       "      <th>2024-07-19 10:33:00</th>\n",
       "      <td>3714.0</td>\n",
       "      <td>3714.0</td>\n",
       "      <td>3714.0</td>\n",
       "      <td>3714.0</td>\n",
       "      <td>1.0</td>\n",
       "    </tr>\n",
       "    <tr>\n",
       "      <th>2024-07-19 10:38:00</th>\n",
       "      <td>3745.0</td>\n",
       "      <td>3745.0</td>\n",
       "      <td>3745.0</td>\n",
       "      <td>3745.0</td>\n",
       "      <td>3.0</td>\n",
       "    </tr>\n",
       "    <tr>\n",
       "      <th>...</th>\n",
       "      <td>...</td>\n",
       "      <td>...</td>\n",
       "      <td>...</td>\n",
       "      <td>...</td>\n",
       "      <td>...</td>\n",
       "    </tr>\n",
       "    <tr>\n",
       "      <th>2024-08-02 16:55:00</th>\n",
       "      <td>3665.0</td>\n",
       "      <td>3668.0</td>\n",
       "      <td>3668.0</td>\n",
       "      <td>3665.0</td>\n",
       "      <td>13.0</td>\n",
       "    </tr>\n",
       "    <tr>\n",
       "      <th>2024-08-02 16:56:00</th>\n",
       "      <td>3674.0</td>\n",
       "      <td>3680.0</td>\n",
       "      <td>3680.0</td>\n",
       "      <td>3673.0</td>\n",
       "      <td>31.0</td>\n",
       "    </tr>\n",
       "    <tr>\n",
       "      <th>2024-08-02 16:57:00</th>\n",
       "      <td>3687.0</td>\n",
       "      <td>3700.0</td>\n",
       "      <td>3700.0</td>\n",
       "      <td>3687.0</td>\n",
       "      <td>90.0</td>\n",
       "    </tr>\n",
       "    <tr>\n",
       "      <th>2024-08-02 16:58:00</th>\n",
       "      <td>3700.0</td>\n",
       "      <td>3694.0</td>\n",
       "      <td>3700.0</td>\n",
       "      <td>3693.0</td>\n",
       "      <td>24.0</td>\n",
       "    </tr>\n",
       "    <tr>\n",
       "      <th>2024-08-02 16:59:00</th>\n",
       "      <td>3699.0</td>\n",
       "      <td>3700.0</td>\n",
       "      <td>3700.0</td>\n",
       "      <td>3699.0</td>\n",
       "      <td>60.0</td>\n",
       "    </tr>\n",
       "  </tbody>\n",
       "</table>\n",
       "<p>2855 rows × 5 columns</p>\n",
       "</div>"
      ],
      "text/plain": [
       "                       Open   Close    High     Low  Volume\n",
       "Timestamp                                                  \n",
       "2024-07-19 10:30:00  3742.0  3742.0  3742.0  3742.0     1.0\n",
       "2024-07-19 10:31:00  3755.0  3755.0  3755.0  3755.0     1.0\n",
       "2024-07-19 10:32:00  3710.0  3710.0  3710.0  3710.0    10.0\n",
       "2024-07-19 10:33:00  3714.0  3714.0  3714.0  3714.0     1.0\n",
       "2024-07-19 10:38:00  3745.0  3745.0  3745.0  3745.0     3.0\n",
       "...                     ...     ...     ...     ...     ...\n",
       "2024-08-02 16:55:00  3665.0  3668.0  3668.0  3665.0    13.0\n",
       "2024-08-02 16:56:00  3674.0  3680.0  3680.0  3673.0    31.0\n",
       "2024-08-02 16:57:00  3687.0  3700.0  3700.0  3687.0    90.0\n",
       "2024-08-02 16:58:00  3700.0  3694.0  3700.0  3693.0    24.0\n",
       "2024-08-02 16:59:00  3699.0  3700.0  3700.0  3699.0    60.0\n",
       "\n",
       "[2855 rows x 5 columns]"
      ]
     },
     "execution_count": 19,
     "metadata": {},
     "output_type": "execute_result"
    }
   ],
   "source": [
    "df = pd.read_csv(\"galicia.csv\", index_col=0)\n",
    "df\n"
   ]
  },
  {
   "cell_type": "code",
   "execution_count": 15,
   "metadata": {},
   "outputs": [
    {
     "data": {
      "text/plain": [
       "'35'"
      ]
     },
     "execution_count": 15,
     "metadata": {},
     "output_type": "execute_result"
    }
   ],
   "source": [
    "import pandas as pd\n",
    "\n",
    "df = pd.DataFrame({ \"SUJETO\":[\"1\", \"2\", \"3\"], \n",
    "                \"CIRCUNFERENCIA DE CINTURA\": [\"102\", \"89\", \"142\"],\n",
    "                \"IMC\": [\"29\", \"26\", \"35\"]})\n",
    "df[\"IMC\"].max()\n"
   ]
  }
 ],
 "metadata": {
  "kernelspec": {
   "display_name": "Python 3",
   "language": "python",
   "name": "python3"
  },
  "language_info": {
   "codemirror_mode": {
    "name": "ipython",
    "version": 3
   },
   "file_extension": ".py",
   "mimetype": "text/x-python",
   "name": "python",
   "nbconvert_exporter": "python",
   "pygments_lexer": "ipython3",
   "version": "3.12.3"
  }
 },
 "nbformat": 4,
 "nbformat_minor": 2
}
